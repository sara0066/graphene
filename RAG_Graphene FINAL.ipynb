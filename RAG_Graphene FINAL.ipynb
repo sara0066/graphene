{
 "cells": [
  {
   "cell_type": "markdown",
   "id": "e561e1b6",
   "metadata": {},
   "source": [
    "# Building a simple RAG chatbot with LangChain, Hugging Face, FAISS, Amazon SageMaker and Amazon Textract"
   ]
  },
  {
   "cell_type": "code",
   "execution_count": null,
   "id": "a6e7b807",
   "metadata": {
    "tags": []
   },
   "outputs": [],
   "source": [
    "%%sh\n",
    "pip install sagemaker langchain amazon-textract-caller amazon-textract-textractor sentence-transformers pypdf \n",
    "pip install faiss-cpu -U"
   ]
  },
  {
   "cell_type": "code",
   "execution_count": 1,
   "id": "91613d24",
   "metadata": {
    "tags": []
   },
   "outputs": [
    {
     "name": "stdout",
     "output_type": "stream",
     "text": [
      "sagemaker.config INFO - Not applying SDK defaults from location: /etc/xdg/sagemaker/config.yaml\n",
      "sagemaker.config INFO - Not applying SDK defaults from location: /home/studio-lab-user/.config/sagemaker/config.yaml\n"
     ]
    }
   ],
   "source": [
    "import boto3, json, sagemaker\n",
    "from typing import Dict\n",
    "from langchain import LLMChain\n",
    "from langchain.docstore.document import Document\n",
    "from langchain.prompts import PromptTemplate\n",
    "from langchain.llms import SagemakerEndpoint\n",
    "from langchain.llms.sagemaker_endpoint import LLMContentHandler\n",
    "from sagemaker.huggingface import HuggingFaceModel, get_huggingface_llm_image_uri"
   ]
  },
  {
   "cell_type": "markdown",
   "id": "5f8ff459",
   "metadata": {},
   "source": [
    "## Deploy LLM on SageMaker"
   ]
  },
  {
   "cell_type": "code",
   "execution_count": 2,
   "id": "3c025e29",
   "metadata": {
    "tags": []
   },
   "outputs": [
    {
     "name": "stdout",
     "output_type": "stream",
     "text": [
      "---------!"
     ]
    }
   ],
   "source": [
    "from sagemaker import get_execution_role\n",
    "sagemaker_session = sagemaker.Session()\n",
    "role = 'arn:aws:iam::182943155813:role/service-role/AmazonSageMaker-ExecutionRole-20240214T125955'\n",
    "\n",
    "hub = {\n",
    "\t'HF_MODEL_ID':'mistralai/Mistral-7B-Instruct-v0.1',\n",
    "\t'SM_NUM_GPUS': '1'\n",
    "}\n",
    "\n",
    "huggingface_model = HuggingFaceModel(\n",
    "\timage_uri=get_huggingface_llm_image_uri(\"huggingface\",version=\"1.1.0\"),\n",
    "\tenv=hub,\n",
    "\trole=role \n",
    ")\n",
    "\n",
    "predictor = huggingface_model.deploy(\n",
    "\tinitial_instance_count=1,\n",
    "\tinstance_type=\"ml.g5.2xlarge\",\n",
    "\tcontainer_startup_health_check_timeout=300,\n",
    "  )"
   ]
  },
  {
   "cell_type": "code",
   "execution_count": 3,
   "id": "f6bbbb01",
   "metadata": {
    "tags": []
   },
   "outputs": [
    {
     "data": {
      "text/plain": [
       "'huggingface-pytorch-tgi-inference-2024-03-07-08-57-28-692'"
      ]
     },
     "execution_count": 3,
     "metadata": {},
     "output_type": "execute_result"
    }
   ],
   "source": [
    "endpoint_name = predictor.endpoint_name\n",
    "endpoint_name"
   ]
  },
  {
   "cell_type": "markdown",
   "id": "0a3547b7",
   "metadata": {},
   "source": [
    "## Configure LLM in LangChain"
   ]
  },
  {
   "cell_type": "code",
   "execution_count": 4,
   "id": "beb3bcff",
   "metadata": {
    "tags": []
   },
   "outputs": [],
   "source": [
    "model_kwargs = {\"max_new_tokens\": 512, \"top_p\": 0.8, \"temperature\": 0.8}"
   ]
  },
  {
   "cell_type": "code",
   "execution_count": 5,
   "id": "29135c41",
   "metadata": {
    "tags": []
   },
   "outputs": [],
   "source": [
    "class ContentHandler(LLMContentHandler):\n",
    "    content_type = \"application/json\"\n",
    "    accepts = \"application/json\"\n",
    "\n",
    "    def transform_input(self, prompt: str, model_kwargs: Dict) -> bytes:\n",
    "        input_str = json.dumps(\n",
    "            # Mistral prompt, see https://huggingface.co/mistralai/Mistral-7B-Instruct-v0.1\n",
    "            {\"inputs\": f\"<s>[INST] {prompt} [/INST]\", \"parameters\": {**model_kwargs}}\n",
    "        )\n",
    "        return input_str.encode(\"utf-8\")\n",
    "\n",
    "    def transform_output(self, output: bytes) -> str:\n",
    "        response_json = json.loads(output.read().decode(\"utf-8\"))\n",
    "        splits = response_json[0][\"generated_text\"].split(\"[/INST] \")\n",
    "        return splits[1]\n",
    "\n",
    "content_handler = ContentHandler()"
   ]
  },
  {
   "cell_type": "code",
   "execution_count": 6,
   "id": "fae0bb69",
   "metadata": {
    "tags": []
   },
   "outputs": [],
   "source": [
    "sm_client = boto3.client(\"sagemaker-runtime\") # needed for AWS credentials\n",
    "\n",
    "llm = SagemakerEndpoint(\n",
    "    endpoint_name=endpoint_name,\n",
    "    model_kwargs=model_kwargs,\n",
    "    content_handler=content_handler,\n",
    "    client=sm_client,\n",
    ")"
   ]
  },
  {
   "cell_type": "markdown",
   "id": "267a7cb9",
   "metadata": {},
   "source": [
    "## Zero-shot example"
   ]
  },
  {
   "cell_type": "code",
   "execution_count": 7,
   "id": "21eec468",
   "metadata": {
    "tags": []
   },
   "outputs": [],
   "source": [
    "system_prompt = \"\"\"\n",
    "As a materials science assistant, please answer the question, focusing on numerical data.\n",
    "Don't invent facts. If you can't provide a factual answer, say you don't know what the answer is.\n",
    "\"\"\"\n",
    "\n",
    "prompt = PromptTemplate.from_template(system_prompt + \"{content}\")"
   ]
  },
  {
   "cell_type": "code",
   "execution_count": 8,
   "id": "28e5f4ed",
   "metadata": {
    "tags": []
   },
   "outputs": [],
   "source": [
    "llm_chain = LLMChain(llm=llm, prompt=prompt)"
   ]
  },
  {
   "cell_type": "code",
   "execution_count": 9,
   "id": "77e58740",
   "metadata": {
    "tags": []
   },
   "outputs": [],
   "source": [
    "question = \"Provide me a step-by-step process to produce high-quality monolayer graphene. Provide the source.\"\n",
    "\n",
    "query = f\"question: {question}\""
   ]
  },
  {
   "cell_type": "code",
   "execution_count": 13,
   "id": "4ba91871",
   "metadata": {
    "tags": []
   },
   "outputs": [
    {
     "name": "stdout",
     "output_type": "stream",
     "text": [
      "{'content': {'question: Provide me a step-by-step process to produce high-quality monolayer graphene. Provide the source.'}, 'text': 'To produce high-quality monolayer graphene, the following steps can be followed:\\n\\n1. Exfoliation: The first step is to exfoliate graphite to obtain a single layer of graphene. This can be done using a variety of methods, such as mechanical exfoliation, chemical exfoliation, or thermal exfoliation.\\n2. Purification: Once the graphene has been exfoliated, it needs to be purified to remove any impurities or defects that may be present. This can be done using a variety of methods, such as chemical purification or physical purification.\\n3. Characterization: The purified graphene needs to be characterized to ensure that it is of high quality. This can be done using a variety of techniques, such as atomic force microscopy (AFM), Raman spectroscopy, or scanning tunneling microscopy (STM).\\n4. Transfer: Once the graphene has been characterized, it needs to be transferred onto a substrate for further processing or use. This can be done using a variety of methods, such as mechanical transfer, chemical transfer, or thermal transfer.\\n\\nSources:\\n\\n* \"High-quality graphene production: a review\" by S. B. M. Hong and S. Y. Kim (Materials Research Express, 2015)\\n* \"A comprehensive review of graphene production methods\" by T. T. Zhang, H. Q. Yin, and Y. X. Liu (Journal of Materials Research and Express, 2018)'}\n"
     ]
    }
   ],
   "source": [
    "answer = llm_chain.invoke({query})\n",
    "print(answer)"
   ]
  },
  {
   "cell_type": "markdown",
   "id": "45079dc5",
   "metadata": {},
   "source": [
    "## RAG example with PDF files"
   ]
  },
  {
   "cell_type": "code",
   "execution_count": 14,
   "id": "19eb8f4e",
   "metadata": {
    "tags": []
   },
   "outputs": [],
   "source": [
    "from langchain.document_loaders import AmazonTextractPDFLoader\n",
    "from langchain.text_splitter import RecursiveCharacterTextSplitter\n",
    "from langchain.embeddings import HuggingFaceEmbeddings\n",
    "from langchain.vectorstores import FAISS\n",
    "from langchain.chains import RetrievalQA"
   ]
  },
  {
   "cell_type": "code",
   "execution_count": 15,
   "id": "b93ba6da",
   "metadata": {
    "tags": []
   },
   "outputs": [],
   "source": [
    "# Define S3 bucket and prefix for PDF storage\n",
    "\n",
    "bucket = sagemaker.Session().default_bucket()\n",
    "prefix = \"graphene-rag\""
   ]
  },
  {
   "cell_type": "code",
   "execution_count": 16,
   "id": "17460881",
   "metadata": {
    "tags": []
   },
   "outputs": [
    {
     "name": "stdout",
     "output_type": "stream",
     "text": [
      "upload: pdfs/graphenepdfs_full.pdf to s3://sagemaker-us-east-1-182943155813/graphene-rag/graphenepdfs_full.pdf\n"
     ]
    }
   ],
   "source": [
    "%%sh -s $bucket $prefix\n",
    "aws s3 cp --recursive pdfs s3://$1/$2/"
   ]
  },
  {
   "cell_type": "code",
   "execution_count": 17,
   "id": "65b5ed3b",
   "metadata": {
    "tags": []
   },
   "outputs": [
    {
     "data": {
      "text/plain": [
       "['s3://sagemaker-us-east-1-182943155813/graphene-rag/graphenepdfs_full.pdf']"
      ]
     },
     "execution_count": 17,
     "metadata": {},
     "output_type": "execute_result"
    }
   ],
   "source": [
    "# Build list of S3 URIs\n",
    "\n",
    "s3 = boto3.client(\"s3\")\n",
    "objs = s3.list_objects_v2(Bucket=bucket, Prefix=prefix)\n",
    "objs = objs['Contents']\n",
    "uris = [f's3://{bucket}/{obj[\"Key\"]}' for obj in objs]\n",
    "uris    "
   ]
  },
  {
   "cell_type": "markdown",
   "id": "07745175",
   "metadata": {},
   "source": [
    "### Analyze documents with Amazon Textract and split them in chunks"
   ]
  },
  {
   "cell_type": "code",
   "execution_count": 18,
   "id": "e801a97d",
   "metadata": {
    "tags": []
   },
   "outputs": [
    {
     "name": "stdout",
     "output_type": "stream",
     "text": [
      "Loaded s3://sagemaker-us-east-1-182943155813/graphene-rag/graphenepdfs_full.pdf, 100 pages, 1396 chunks\n",
      "CPU times: user 8.51 s, sys: 240 ms, total: 8.75 s\n",
      "Wall time: 1min 3s\n"
     ]
    }
   ],
   "source": [
    "%%time\n",
    "\n",
    "textract_client = boto3.client('textract')\n",
    "splitter = RecursiveCharacterTextSplitter(chunk_size=256, chunk_overlap=0)\n",
    "\n",
    "all_chunks = []\n",
    "\n",
    "for uri in uris:\n",
    "    loader = AmazonTextractPDFLoader(uri, client=textract_client)\n",
    "    document = loader.load()\n",
    "    chunks = splitter.split_documents(document)\n",
    "    all_chunks += chunks\n",
    "    print(f\"Loaded {uri}, {len(document)} pages, {len(chunks)} chunks\")"
   ]
  },
  {
   "cell_type": "markdown",
   "id": "1d1c74a8",
   "metadata": {},
   "source": [
    "### Embed document chunks and store them in FAISS\n",
    "https://github.com/facebookresearch/faiss "
   ]
  },
  {
   "cell_type": "code",
   "execution_count": 19,
   "id": "fa50471b",
   "metadata": {
    "tags": []
   },
   "outputs": [],
   "source": [
    "# Define embedding model\n",
    "# See https://huggingface.co/spaces/mteb/leaderboard\n",
    "\n",
    "embedding_model_id = \"BAAI/bge-small-en-v1.5\"\n",
    "\n",
    "embeddings = HuggingFaceEmbeddings(\n",
    "    model_name=embedding_model_id,\n",
    ")"
   ]
  },
  {
   "cell_type": "code",
   "execution_count": 20,
   "id": "2c61d096",
   "metadata": {
    "tags": []
   },
   "outputs": [
    {
     "name": "stdout",
     "output_type": "stream",
     "text": [
      "CPU times: user 48.4 s, sys: 810 ms, total: 49.2 s\n",
      "Wall time: 27.8 s\n"
     ]
    }
   ],
   "source": [
    "%%time\n",
    "# Embed chunks\n",
    "embeddings_db = FAISS.from_documents(all_chunks, embeddings)"
   ]
  },
  {
   "cell_type": "code",
   "execution_count": 21,
   "id": "8f3cbb03",
   "metadata": {
    "tags": []
   },
   "outputs": [],
   "source": [
    "# Save database\n",
    "embeddings_db.save_local(\"faiss_index\")"
   ]
  },
  {
   "cell_type": "markdown",
   "id": "ffdb455a",
   "metadata": {},
   "source": [
    "### Shortcut : load existing embedding database"
   ]
  },
  {
   "cell_type": "code",
   "execution_count": 22,
   "id": "e86b0ae6",
   "metadata": {
    "tags": []
   },
   "outputs": [],
   "source": [
    "embeddings_db = FAISS.load_local(\"faiss_index\", embeddings)"
   ]
  },
  {
   "cell_type": "markdown",
   "id": "6fa22850",
   "metadata": {},
   "source": [
    "********"
   ]
  },
  {
   "cell_type": "markdown",
   "id": "a99d4d47",
   "metadata": {},
   "source": [
    "### Configure RAG chain"
   ]
  },
  {
   "cell_type": "code",
   "execution_count": 23,
   "id": "4148a333",
   "metadata": {
    "tags": []
   },
   "outputs": [],
   "source": [
    "retriever = embeddings_db.as_retriever(search_kwargs={\"k\": 10})"
   ]
  },
  {
   "cell_type": "code",
   "execution_count": 24,
   "id": "6c1db22a",
   "metadata": {
    "tags": []
   },
   "outputs": [],
   "source": [
    "# Define prompt template\n",
    "prompt_template = \"\"\"\n",
    "As a materials science assistant, please answer the question, focusing on numerical data. Answer naturally like speaking to a human. \n",
    "Do NOT invent any facts. If you can't provide a factual answer, say you don't know what the answer is. \n",
    "Even if source is not asked, always provide the author, title of paper and year of publication belonging to the embedding used in the response generation, placing them in a continuous sentence in the following format: 'Source: Author, Title of paper (Year of Publication)'.\n",
    "All sources should be from FAISS database.\n",
    "\n",
    "question: {question}\n",
    "\n",
    "important context to prioritise your built-in knowledge: {context}\n",
    "\n",
    "\"\"\"\n",
    "\n",
    "prompt = PromptTemplate(template=prompt_template, input_variables=[\"context\", \"question\"])"
   ]
  },
  {
   "cell_type": "code",
   "execution_count": 25,
   "id": "a92ef004",
   "metadata": {
    "tags": []
   },
   "outputs": [],
   "source": [
    "chain = RetrievalQA.from_chain_type(\n",
    "    llm=llm, \n",
    "    chain_type=\"stuff\",\n",
    "    retriever=retriever, \n",
    "    chain_type_kwargs = {\"prompt\": prompt})"
   ]
  },
  {
   "cell_type": "markdown",
   "id": "4e06143a",
   "metadata": {},
   "source": [
    "### Ask our question again"
   ]
  },
  {
   "cell_type": "code",
   "execution_count": 26,
   "id": "64223366",
   "metadata": {
    "tags": []
   },
   "outputs": [
    {
     "name": "stdout",
     "output_type": "stream",
     "text": [
      "To produce high-quality monolayer graphene using thermal CVD, the following steps can be taken:\n",
      "\n",
      "1. Start by heating a copper (Cu) foil (10 x 10 cm2) to 1000 °C in a quartz tube for 60 minutes.\n",
      "2. Once the Cu foil is heated, remove it from the quartz tube and let it cool down to room temperature.\n",
      "3. Place the Cu foil in a chamber and expose it to ethylene gas at a base pressure of 1x10-10 mbar.\n",
      "4. Heat the chamber to a temperature of 400-500 °C, and leave it at this temperature for several hours.\n",
      "5. After the exposure to ethylene gas, remove the Cu foil from the chamber and let it cool down to room temperature.\n",
      "6. Use scanning electron microscopy (SEM) or atomic force microscopy (AFM) to examine the surface of the Cu foil and verify that it has grown a single layer of graphene.\n",
      "\n",
      "Source: Bointon, T. H., High Quality Monolayer Graphene Synthesized by Resistive Heating Cold Wall Chemical Vapor Deposition, Journal of Applied Materials and Interfaces, 2015.\n",
      "CPU times: user 161 ms, sys: 248 µs, total: 161 ms\n",
      "Wall time: 11 s\n"
     ]
    }
   ],
   "source": [
    "%%time\n",
    "question = \"Provide me a step-by-step process to produce high-quality monolayer graphene. Provide the source.\"\n",
    "answer = chain.run({\"query\": question})\n",
    "print(answer)"
   ]
  },
  {
   "cell_type": "code",
   "execution_count": 27,
   "id": "c987a62a-7b6e-47b5-b46d-691ce7c18ff0",
   "metadata": {},
   "outputs": [
    {
     "name": "stdout",
     "output_type": "stream",
     "text": [
      "The dry transfer method for preparing graphene involves depositing the graphene on a substrate using a roll-to-roll process. The graphene is then transferred onto the substrate using the standard wet transfer method. The flow of the fabrication process for the double-layer graphene stack is shown in Supplementary Fig. 10. The method of producing graphene involves depositing 72 nm of graphene on a substrate using a thermal evaporator and then transferring it onto the substrate using a semi-dry transfer method. The yield of graphene produced using this method is estimated by weighting the dried graphene powders and the dried sediment. The yield of graphene produced using this method is about 15%. The paper by Liu et al. (2018) presents a systematic study to explore the fundamental factors that affect the yield of graphene produced using this method. The paper by Juang et al. (2010) presents a fabrication scheme for clean suspended structures using chemical-vapor-deposition-grown graphene and a dry transfer method on liftoff-resist-coated substrates.\n",
      "CPU times: user 115 ms, sys: 68 µs, total: 115 ms\n",
      "Wall time: 9.55 s\n"
     ]
    }
   ],
   "source": [
    "%%time\n",
    "question = \"Give me the summary of preparing graphene using the dry transfer method.\"\n",
    "answer = chain.run({\"query\": question})\n",
    "print(answer)"
   ]
  },
  {
   "cell_type": "code",
   "execution_count": 28,
   "id": "b0c8d1da-845e-4b1e-bf86-e00f053ec5c2",
   "metadata": {},
   "outputs": [
    {
     "name": "stdout",
     "output_type": "stream",
     "text": [
      "The materials used for graphene produced using CVD typically consist of a substrate material, such as copper (Cu), and a gas mixture, including hydrocarbons and catalytic agents. The substrate material is used to support the growth of the graphene film, while the gas mixture provides the necessary atoms and molecules for the formation of graphene.\n",
      "\n",
      "The quality and properties of the graphene produced by CVD can be influenced by various parameters, such as temperature, pressure, and gas composition. For example, increasing the temperature of the substrate material can improve the catalytic activity, leading to the synthesis of high-quality graphene.\n",
      "\n",
      "Recent studies have focused on improving the mass production of CVD graphene films, including the development of more efficient and cost-effective methods. For example, a recent study demonstrated the growth of high-quality graphene using resistive-heating cold-wall CVD, which is 100 times faster and 99% lower cost than standard CVD (Deng, 2018).\n",
      "\n",
      "It's important to note that the presence of single-, few-, and multi-layer graphene can be confirmed through various techniques, such as Raman spectroscopy and scanning electron microscopy.\n",
      "\n",
      "Source: Deng, B. (2018). Toward mass production of CVD graphene films. Journal of Applied Materials and Interfaces, 10(3), 1-10.\n",
      "CPU times: user 90.5 ms, sys: 27 µs, total: 90.5 ms\n",
      "Wall time: 11.9 s\n"
     ]
    }
   ],
   "source": [
    "%%time\n",
    "question = \"Describe the materials used for graphene produced using CVD.\"\n",
    "answer = chain.run({\"query\": question})\n",
    "print(answer)"
   ]
  },
  {
   "cell_type": "code",
   "execution_count": 29,
   "id": "149c4e88-a62f-4fb8-a692-66e109d77371",
   "metadata": {},
   "outputs": [
    {
     "name": "stdout",
     "output_type": "stream",
     "text": [
      "Based on the provided information, it is likely that the graphene material produced using chemical reduction of exfoliated graphite oxide will consist of few-layered graphene, with a number of layers ranging from 4 to 10. The presence of multi-layer graphene was also confirmed in some cases, but the number of layers was greater than 3. The yield of few-layer graphene was found to be around 11.3 wt.% when using wheat straw as starting material. However, it's worth noting that the number of layers may vary depending on the specific parameters used in the production process.\n",
      "CPU times: user 114 ms, sys: 3.78 ms, total: 117 ms\n",
      "Wall time: 5.05 s\n"
     ]
    }
   ],
   "source": [
    "%%time\n",
    "question = \"Should I expect monolayer or few-layered graphene when produced using chemical reduction of exfoliated graphite oxide?\"\n",
    "answer = chain.run({\"query\": question})\n",
    "print(answer)"
   ]
  },
  {
   "cell_type": "code",
   "execution_count": 30,
   "id": "a79183ab-c17f-443a-8e3c-da68dcc9223d",
   "metadata": {},
   "outputs": [
    {
     "name": "stdout",
     "output_type": "stream",
     "text": [
      "The suggested number of graphite flakes to synthesize graphene varies depending on the method used. However, for the annealing method, a typical range is between 2-5 g of graphite flakes. This method involves oxidizing the graphite flakes and then intercalating them in a solvent solution to produce graphene. The amount of graphite flakes needed depends on the size of the flakes and the desired yield of graphene. For example, in one study, 2 g of graphite flakes were used to produce 0.5 g of graphene[114,147,148,192].\n",
      "\n",
      "Source: Liu, Z., et al. \"A facile and scalable method for the production of high-quality graphene by annealing of graphite flakes.\" Carbon, vol. 147, no. 148, 2019, pp. 114-148.\n",
      "CPU times: user 91.8 ms, sys: 64 µs, total: 91.8 ms\n",
      "Wall time: 8.14 s\n"
     ]
    }
   ],
   "source": [
    "%%time\n",
    "question = \"What is a suggested number of graphite flakes to synthesize graphene?\"\n",
    "answer = chain.run({\"query\": question})\n",
    "print(answer)"
   ]
  },
  {
   "cell_type": "code",
   "execution_count": 31,
   "id": "34a88687-1c33-4272-9c3c-3822a28ab924",
   "metadata": {},
   "outputs": [
    {
     "name": "stdout",
     "output_type": "stream",
     "text": [
      "Here is the table you requested:\n",
      "\n",
      "| Parameter | Laser | CVD |\n",
      "| --- | --- | --- |\n",
      "| Growth rate | Fast | Slow |\n",
      "| Cost | High | Low |\n",
      "| Quality of graphene | Poor | Good |\n",
      "| Layers of graphene | Single, few, multi | Single, few, multi |\n",
      "\n",
      "Note: The quality of graphene synthesized using CVD is generally better than that synthesized using laser, and the cost of CVD is significantly lower. The growth rate of CVD is slower, but it can be controlled by varying the substrate temperature and other parameters. CVD can be used to synthesize single, few, and multi-layer graphene, while laser can only produce single-layer graphene.\n",
      "\n",
      "Source:\n",
      "\n",
      "* Campo, T. (2016). Graphene Synthesis by Plasma-Enhanced CVD Growth with Ethanol. AJEASSP, 574, 583. doi: 10.3844/ajeassp.2016.574.583\n",
      "* Ghaemi, F., & Ghaemi, A. (2016). Synthesis of Different Layers of Graphene on Stainless Steel Using the CVD Method. Journal of Nanoscience and Nanotechnology, 11(1), 1-8. doi: 10.1186/s11671-016-1709-x\n",
      "* Yamada, T. (2013). Low-temperature graphene synthesis using microwave plasma CVD. Journal of Vacuum Science and Technology B: Microelectronics and Nanotechnology, 46(6), 063001. doi: 10.1088/0022-3727/46/6/063001\n",
      "CPU times: user 122 ms, sys: 7.59 ms, total: 130 ms\n",
      "Wall time: 16.7 s\n"
     ]
    }
   ],
   "source": [
    "%%time\n",
    "question = \"Give me the differences in using laser or CVD to synthesize graphene. Present the information in a table with fixed headers ‘Laser’ and ‘CVD’.\"\n",
    "answer = chain.run({\"query\": question})\n",
    "print(answer)"
   ]
  },
  {
   "cell_type": "code",
   "execution_count": 32,
   "id": "819e2dc8-4ad6-482b-a3ac-5209bbcccbbf",
   "metadata": {},
   "outputs": [
    {
     "name": "stdout",
     "output_type": "stream",
     "text": [
      "Based on the information provided, the paper that you are thinking of is \"Synthesis and characterization of graphene derived from rice husks\" by Mohammad Shafri Ismail, published in 2018. According to the paper, the produced graphene is multi-layered (more than 5 layers).\n",
      "CPU times: user 133 ms, sys: 5.92 ms, total: 139 ms\n",
      "Wall time: 2.82 s\n"
     ]
    }
   ],
   "source": [
    "%%time\n",
    "question = \"I think I remember reading an article on producing graphene with rice husks. Can you help me find the paper and if the produced graphene is a mono-layer or a multi-layer?\"\n",
    "answer = chain.run({\"query\": question})\n",
    "print(answer)"
   ]
  },
  {
   "cell_type": "code",
   "execution_count": 33,
   "id": "88e9e4b6-c50b-40ed-a220-c05840391d93",
   "metadata": {},
   "outputs": [
    {
     "name": "stdout",
     "output_type": "stream",
     "text": [
      "To produce graphene for solar cells, the following steps can be followed:\n",
      "\n",
      "1. Preparation of the substrate: A copper foil (10 X 10 cm2) can be used as the substrate.\n",
      "2. Heating: The copper foil can be heated to 1000 °C for 60 min in a quartz tube using thermal CVD.\n",
      "3. Cooling: The graphene film can be cooled down after the heating process.\n",
      "\n",
      "Source: Author, Title of paper (Year of Publication)\n",
      "\n",
      "Method of producing graphene: Monolayer graphene was synthesized using thermal CVD. First, a copper (Cu) foil (10 X 10 cm2) was placed in a quartz tube and heated to 1000 °C for 60 min with methane as a carbon source. The synthesis process was performed at a relatively low synthesis temperature.\n",
      "\n",
      "Method of producing graphene: The synthesis process of rice husk-derived graphene was performed using a commercially available cold-wall chemical vapor deposition (CVD) gas and extensive vacuum processing to create a highly controlled environment, isolated from ambient air, to enable the growth of graphene films.\n",
      "\n",
      "Abstract: Despite the intensive research efforts devoted to graphene fabrication over the past decade, the production of high-quality graphene on a large scale, at an affordable cost, and in a reproducible manner remains a challenge.\n",
      "CPU times: user 84.6 ms, sys: 170 µs, total: 84.8 ms\n",
      "Wall time: 12.1 s\n"
     ]
    }
   ],
   "source": [
    "%%time\n",
    "question = \"I need the steps to produce graphene for solar cells.\"\n",
    "answer = chain.run({\"query\": question})\n",
    "print(answer)"
   ]
  },
  {
   "cell_type": "code",
   "execution_count": 34,
   "id": "71390f61-1fab-49d2-bdb7-cd4f244528c8",
   "metadata": {},
   "outputs": [
    {
     "name": "stdout",
     "output_type": "stream",
     "text": [
      "In order to synthesize graphene using a compressing machine, it is important to note that this method is not a commonly used method for producing graphene. However, there have been some studies that have investigated the use of a compressing machine for graphene synthesis.\n",
      "\n",
      "One such study is titled \"A facile scalable method to produce highly porous graphene from reduced graphene oxide via thermal annealing\" by Xue et al. (2015). In this study, the authors used a thermal annealing process to produce highly porous graphene from reduced graphene oxide. The process involved heating the reduced graphene oxide to a temperature of 500°C for 2 hours, which resulted in the formation of highly porous graphene with a surface area of 1000 m2/g.\n",
      "\n",
      "Another study that investigated the use of a compressing machine for graphene synthesis is titled \"Efficient large-scale synthesis of few-layered graphene using a buffer gas-assisted arc discharge method\" by Chen et al. (2014). In this study, the authors used an arc discharge method with a buffer gas containing carbon dioxide to synthesize few-layered graphene. The resulting samples had a lateral size of 10-50 μm and a thickness of 0.3-0.7 nm.\n",
      "\n",
      "It is worth noting that while these studies have investigated the use of a compressing machine for graphene synthesis, they are not the most common or widely used methods for producing graphene. Conventional methods, such as the modified Hummers method, are more commonly used for graphene synthesis.\n",
      "CPU times: user 106 ms, sys: 11.1 ms, total: 117 ms\n",
      "Wall time: 13.9 s\n"
     ]
    }
   ],
   "source": [
    "%%time\n",
    "question = \"Tell me a method to synthesise graphene involving a compressing machine. \"\n",
    "answer = chain.run({\"query\": question})\n",
    "print(answer)"
   ]
  },
  {
   "cell_type": "code",
   "execution_count": 35,
   "id": "e7579d97-b3b1-488c-924f-7432eb88a30a",
   "metadata": {},
   "outputs": [
    {
     "name": "stdout",
     "output_type": "stream",
     "text": [
      "To synthesize graphene without exfoliation, one method is to use the controlled electrochemical exfoliation of graphite in an aqueous ammonium sulfate electrolyte. This method was reported by Guoxiu Wang in the paper \"Highly efficient and large-scale synthesis of graphene by electrolytic exfoliation\" published in the journal Carbon in 2009. The method involves the use of high purity graphite rods, which are exfoliated to produce water-dispersible graphene with high quality and large quantity. This method provides an industrially scalable route for new potential applications of graphene-based materials.\n",
      "CPU times: user 116 ms, sys: 4.02 ms, total: 120 ms\n",
      "Wall time: 5.57 s\n"
     ]
    }
   ],
   "source": [
    "%%time\n",
    "question = \"Give me a process to synthesize graphene that doesn’t use exfoliation. Provide the source.\"\n",
    "answer = chain.run({\"query\": question})\n",
    "print(answer)"
   ]
  },
  {
   "cell_type": "code",
   "execution_count": 36,
   "id": "74437442-adfa-4b36-b2aa-c7359c3cd444",
   "metadata": {},
   "outputs": [
    {
     "name": "stdout",
     "output_type": "stream",
     "text": [
      "The most recent graphene synthesis experiment available is the one by ZiZhao Xu, titled \"Bulk-scale synthesis of randomly stacked graphene with high crystallinity\" published in the journal Carbon in 2021. The study focuses on the production of high-quality graphene on a large scale, at an affordable cost, and in a reproducible manner. The synthesis process involves chemical vapor deposition and transfer by a roll-to-roll process. The study shows that graphene can be synthesized at a relatively low synthesis temperature, which is a significant advancement in the field. The authors also report the presence of single-, few-, and multi-layer graphene in their synthesis process.\n",
      "CPU times: user 69.5 ms, sys: 0 ns, total: 69.5 ms\n",
      "Wall time: 6.04 s\n"
     ]
    }
   ],
   "source": [
    "%%time\n",
    "question = \"What is the most recent graphene synthesis experiment available?\"\n",
    "answer = chain.run({\"query\": question})\n",
    "print(answer)"
   ]
  },
  {
   "cell_type": "code",
   "execution_count": 37,
   "id": "836bbd9c-7ce9-4232-8a34-0d455d3904f0",
   "metadata": {},
   "outputs": [
    {
     "name": "stdout",
     "output_type": "stream",
     "text": [
      "There are several ways to produce graphene from graphite. Here are three methods, along with their respective sources:\n",
      "\n",
      "1. Exfoliation method: This method involves the use of mechanical or chemical processes to separate graphite layers, resulting in the formation of graphene. A simple and easy process for producing graphene using this method was reported in a study by Marcano et al. (2010). The study presented a modified Hummers' method for preparing graphene oxide samples from natural graphite powder.\n",
      "2. Chemical vapor deposition (CVD) method: This method involves the decomposition of a gas mixture in the presence of a substrate material, resulting in the formation of a thin film of graphene. The CVD synthesis of graphene was carried out in a 100 mm quartz tube of 1400 mm in length, as described in a study by Al-Johani et al. (2012). The study used a three-zones furnace of 760 mm length to surround the reactor.\n",
      "3. Hummers' method: This method involves the oxidation of graphite using a mixture of sulfuric acid and hydrogen peroxide, followed by the reduction of the resulting graphene oxide using a reducing agent such as sodium borohydride. A modified Hummers' method was used to prepare graphene oxide samples from natural graphite powder, as reported in a study by Marcano et al. (2010). The study used a simple and easy process to prepare the graphene oxide samples.\n",
      "CPU times: user 86.5 ms, sys: 1.76 ms, total: 88.3 ms\n",
      "Wall time: 12.7 s\n"
     ]
    }
   ],
   "source": [
    "%%time\n",
    "question = \"Give me three ways to produce graphene from graphite. Provide the source for each way.\"\n",
    "answer = chain.run({\"query\": question})\n",
    "print(answer)"
   ]
  },
  {
   "cell_type": "code",
   "execution_count": 38,
   "id": "d8fc177a-8564-4a7f-8a11-1214ad4ca16e",
   "metadata": {},
   "outputs": [
    {
     "name": "stdout",
     "output_type": "stream",
     "text": [
      "To produce graphene inks, the following steps can be taken:\n",
      "\n",
      "1. Monolayer graphene can be synthesized using thermal chemical vapor deposition (CVD) (Source: Huang, et al. (2011)). First, a copper (Cu) foil (10 x 10 cm^2) can be placed in a quartz tube and heated to 1000 °C for 60 min.\n",
      "2. The synthesized graphene can then be dispersed in a solvent to form a graphene ink. This can be done using a variety of techniques, such as mechanical exfoliation or sonication (Source: Zhang, et al. (2011)).\n",
      "3. The graphene ink can be used to print conductive stripes on flexible substrates, such as polyethylene (Source: Liu, et al. (2010)).\n",
      "\n",
      "It's worth noting that the production of high-quality graphene on a large scale, at an affordable cost, and in a reproducible manner is still a challenge in the field of graphene fabrication (Source: Bao, et al. (2011)).\n",
      "CPU times: user 132 ms, sys: 3.9 ms, total: 136 ms\n",
      "Wall time: 9.82 s\n"
     ]
    }
   ],
   "source": [
    "%%time\n",
    "question = \"I need to produce graphene inks. Give me the step-by-step method.\"\n",
    "answer = chain.run({\"query\": question})\n",
    "print(answer)"
   ]
  },
  {
   "cell_type": "code",
   "execution_count": 39,
   "id": "5c79b05a-a494-41d6-bb5c-3bdeca871892",
   "metadata": {},
   "outputs": [
    {
     "name": "stdout",
     "output_type": "stream",
     "text": [
      "Yes, there is a paper describing how to exfoliate graphene with a high shear mixer. The paper \"Reliable Exfoliation of Large-Area High-Quality Flakes of Graphene and Other Two-Dimensional Materials\" by Yuan Huang, published in 2015, describes a method for producing large-area, high-quality flakes of graphene and other two-dimensional materials using a high shear mixer. The authors used a Silverson L5M rotor-stator mixer to exfoliate graphite and achieved high conductivity graphene patterns on various substrates. The paper suggests that the modified exfoliation method is effective for producing high-quality flakes of a wide range of 2D materials.\n",
      "CPU times: user 118 ms, sys: 1.75 ms, total: 120 ms\n",
      "Wall time: 6.3 s\n"
     ]
    }
   ],
   "source": [
    "%%time\n",
    "question = \"Is there a paper describing how to exfoliate graphene with a high shear mixer?\"\n",
    "answer = chain.run({\"query\": question})\n",
    "print(answer)"
   ]
  },
  {
   "cell_type": "code",
   "execution_count": 40,
   "id": "702d2797-846f-4822-b9e9-3c98f8ea3e72",
   "metadata": {},
   "outputs": [
    {
     "name": "stdout",
     "output_type": "stream",
     "text": [
      "Based on the information provided, the graphene synthesized using glucose and ammonium salts will have multiple layers, typically greater than 3 layers. However, the specific number of layers will depend on the parameters used in the synthesis process, such as the temperature, time, and pressure.\n",
      "\n",
      "The CVD method is commonly used to synthesize graphene, and the number of layers produced can vary depending on the specific conditions used. In some studies, single-layer graphene has been produced, while in others, few- and multi-layer graphene has been synthesized.\n",
      "\n",
      "The number of layers in graphene can be confirmed using various techniques such as diffraction, atomic force microscopy, and Raman spectroscopy.\n",
      "\n",
      "In the case of the Mettler Toledo (AX105 Delta Range) balance, the accuracy of +0.0003 g is not relevant to the number of layers in the graphene produced.\n",
      "\n",
      "Overall, the number of layers in graphene produced using glucose and ammonium salts will depend on the specific synthesis process used, and can range from single-layer to few- and multi-layer graphene.\n",
      "CPU times: user 108 ms, sys: 7.5 ms, total: 115 ms\n",
      "Wall time: 9.59 s\n"
     ]
    }
   ],
   "source": [
    "%%time\n",
    "question = \"I am using glucose and ammonium salts to synthesize graphene. How will the graphene look like, and how many layers of graphene is the result?\"\n",
    "answer = chain.run({\"query\": question})\n",
    "print(answer)"
   ]
  },
  {
   "cell_type": "code",
   "execution_count": 41,
   "id": "b0df0d18-8c21-4799-ad99-b14d6f490301",
   "metadata": {},
   "outputs": [
    {
     "name": "stdout",
     "output_type": "stream",
     "text": [
      "To produce FLG using a MW PECVD set-up, you can use a method described in a study by Kang et al. (2015). The study demonstrates the transfer of centimeter-scale FLG from Ni foil to transparent flexible polyethylene terephthalate substrates via an efficient roll-to-roll process. The Ni foil (30 µm in thickness) was used as the substrate and the detailed description of the experimental procedure for GO synthesis is given in the Supplementary data. The current experimental setup can produce ca. 17 g of GO using 12 g of natural flake graphite with full coverage by atmospheric pressure CVD implemented in a vacuum-free outfit. The absence of FLG patches is related to the absence of decomposition of methane on the backside microwave plasma chemical vapor deposition (MPCVD). The plasma/metal interaction can be advantageous for a rapid synthesis of such thin films. The process can produce films of the MPCVD deposition of thin carbon films on Cu foil, and the findings open new pathways for a rapid growth of few-layer graphene films.\n",
      "\n",
      "Source: Kang, S., Kim, S., Kim, J., Lee, J., Choi, H., Choi, J., ... & Park, Y. (2015). Efficient roll-to-roll transfer of centimeter-scale few-layer graphene on transparent flexible substrates. Nature Communications, 6(1), 1-10.\n",
      "CPU times: user 94.7 ms, sys: 0 ns, total: 94.7 ms\n",
      "Wall time: 12.4 s\n"
     ]
    }
   ],
   "source": [
    "%%time\n",
    "question = \"I have a MW PECVD set-up, how do I produce FLG?\"\n",
    "answer = chain.run({\"query\": question})\n",
    "print(answer)"
   ]
  },
  {
   "cell_type": "code",
   "execution_count": 42,
   "id": "517c13ab-03bb-4268-8c1b-9d1f4e73279f",
   "metadata": {},
   "outputs": [
    {
     "name": "stdout",
     "output_type": "stream",
     "text": [
      "The paper \"Dry transfer method for suspended graphene on lift-off-resist: simple ballistic devices with Fabry-P'erot interference\" by Ying Liu (2018) describes a method for producing graphene by thermal evaporation of copper films on a quartz substrate. The resulting graphene was then transferred to a lift-off-resist using a simple ballistic device with Fabry-P'erot interference. The dried graphene was obtained by a dry transfer method using a sacrificial polymeric support.\n",
      "\n",
      "Source: Liu, Y., (2018). Dry transfer method for suspended graphene on lift-off-resist: simple ballistic devices with Fabry-P'erot interference. arXiv:1903.03780 [Physics, condensed matter]. doi:10.48550/arXiv.1903.03780\n",
      "CPU times: user 117 ms, sys: 5 µs, total: 117 ms\n",
      "Wall time: 7.98 s\n"
     ]
    }
   ],
   "source": [
    "%%time\n",
    "question = \"How do I dry graphene and under what parameters? Provide a paper describing the drying process.\"\n",
    "answer = chain.run({\"query\": question})\n",
    "print(answer)"
   ]
  },
  {
   "cell_type": "code",
   "execution_count": 43,
   "id": "76162a89-6408-4dbb-a7a3-17d97b0e164a",
   "metadata": {},
   "outputs": [
    {
     "name": "stdout",
     "output_type": "stream",
     "text": [
      "The parameters involved in a graphene synthesis using the Hummer's method are:\n",
      "\n",
      "1. Graphite powder (<44 mm, 99.99%, supplied by Sigma-Aldrich)\n",
      "2. Sodium nitrate (0.5 g)\n",
      "3. Concentrated H2SO4 (70 mL)\n",
      "4. Modified Hummer's method\n",
      "5. Temperature (typically around 90-100°C)\n",
      "6. Time (typically around 2-4 hours)\n",
      "7. pH (typically around 0.5)\n",
      "8. Oxidant (typically around 10-15 mL)\n",
      "9. Concentration of oxidant (typically around 10-15 mL)\n",
      "10. Mechanical exfoliation (typically around 1.5 nm thickness)\n",
      "\n",
      "Source: Marcano et al., 2010. Synthesis of Graphene Oxide from Graphite Powder. Materials Research Express, 1(1), 1-6.\n",
      "CPU times: user 132 ms, sys: 3.76 ms, total: 136 ms\n",
      "Wall time: 9.11 s\n"
     ]
    }
   ],
   "source": [
    "%%time\n",
    "question = \"Provide a list of the parameters involved in a graphene synthesis involving the Hummer’s method.\"\n",
    "answer = chain.run({\"query\": question})\n",
    "print(answer)"
   ]
  },
  {
   "cell_type": "code",
   "execution_count": 46,
   "id": "0eaa8af5-970d-4104-aabc-f904427d6bc4",
   "metadata": {},
   "outputs": [
    {
     "name": "stdout",
     "output_type": "stream",
     "text": [
      "The facile liquid phase exfoliation method has been tested and tried with amounts of materials, specifically with graphite flakes. The method involves pre-treating the graphite foil with liquid nitrogen and absolute ethanol, and then mixing it with a 9:1 mixture of concentrated H2SO4/H3PO4 and 18 g of KMnO4. The mixture is stirred mechanically at 35-40 C for 4e5 h. The resulting exfoliated graphene is labeled as EG and can be further dispersed in organic solvents or aqueous solution with a conventional ammonium sulfate electrolyte. The method has been tested using a home-built setup with rolled graphite foils as working electrodes and platinum foils as counter electrodes. The source for this information is: Source: Li, Q., Zhang, X., Zhang, Y., Zhang, Y., Wang, Y., Wang, Y., ... & Zhang, Y. (2015). Facile liquid phase exfoliation of defect-free graphene. Materials Research Express, 15(11), 13888-13895.\n",
      "Based on the provided data, the suggested material amounts will produce a multi-layered graphene (>5 layers). This is indicated by the fact that the transmittance of the graphene produced is 97.4% and the sheet resistance is as low as 125 ? ??1. This suggests that the graphene is of high quality and has a high degree of crystallinity, which is characteristic of multi-layered graphene. Additionally, the presence of single-, few-, and multi-layer graphene in the synthesized film is confirmed through various experimental techniques such as atomic force microscopy (AFM) and Raman spectroscopy.\n",
      "\n",
      "It is also worth noting that the number of layers of graphene can be controlled through various parameters such as temperature, pressure, and substrate material. For example, the presence of single-to-few layers in a single step can be achieved by varying the parameters of the chemical vapor deposition (CVD) method. Similarly, the presence of few-layered graphene (4<x<6 layers) or few-layered graphene (4<x<8 layers) can be achieved by controlling the growth conditions such as substrate temperature, gas flow rate, and pressure.\n",
      "\n",
      "Overall, the data suggests that the suggested material amounts will produce a high-quality multi-layered graphene film with tailored properties, which can be achieved through controlled synthesis and optimization of the growth conditions.\n",
      "\n",
      "Source:\n",
      "\n",
      "* \"Controlled Synthesis of High-Quality Graphene Films Using Chemical Vapor Deposition\" by Zhang, X., et al. (2011)\n",
      "* \"Single-Step Synthesis of High-Quality Graphene Film with Single-to-Few Layers\" by Zhang, X., et al. (2012)\n",
      "* \"Controlled Synthesis of Graphene Film with Ambient-Air Growth\" by Zhang, X., et al. (2013)\n",
      "CPU times: user 207 ms, sys: 3.35 ms, total: 211 ms\n",
      "Wall time: 25.7 s\n"
     ]
    }
   ],
   "source": [
    "%%time\n",
    "question1 = \"Describe the facile liquid phase exfoliation method with tested and tried amounts of materials. Provide the source.\"\n",
    "answer1 = chain.run({\"query\": question1})\n",
    "print(answer1)\n",
    "\n",
    "question2 = \"Will the suggested material amounts produce a monolayer or multiple layers of graphene?\"\n",
    "answer2 = chain.run({\"query\": question2})\n",
    "print(answer2)"
   ]
  },
  {
   "cell_type": "markdown",
   "id": "7f2d4337",
   "metadata": {},
   "source": [
    "## Delete endpoint and model"
   ]
  },
  {
   "cell_type": "code",
   "execution_count": null,
   "id": "066351f1",
   "metadata": {},
   "outputs": [],
   "source": [
    "predictor.delete_model()\n",
    "predictor.delete_endpoint()"
   ]
  },
  {
   "cell_type": "code",
   "execution_count": null,
   "id": "4f083366",
   "metadata": {},
   "outputs": [],
   "source": []
  }
 ],
 "metadata": {
  "kernelspec": {
   "display_name": "default:Python",
   "language": "python",
   "name": "conda-env-default-py"
  },
  "language_info": {
   "codemirror_mode": {
    "name": "ipython",
    "version": 3
   },
   "file_extension": ".py",
   "mimetype": "text/x-python",
   "name": "python",
   "nbconvert_exporter": "python",
   "pygments_lexer": "ipython3",
   "version": "3.9.16"
  }
 },
 "nbformat": 4,
 "nbformat_minor": 5
}
