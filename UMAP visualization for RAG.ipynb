{
 "cells": [
  {
   "cell_type": "markdown",
   "metadata": {},
   "source": [
    "# UMAP Visualizations for RAG using RAGxplorer"
   ]
  },
  {
   "cell_type": "markdown",
   "metadata": {},
   "source": [
    "Reference: \n",
    "\n",
    "[1] Chua, G. (2024). RAGxplorer (Version 0.1.10) [Computer software]. https://github.com/gabrielchua/RAGxplorer"
   ]
  },
  {
   "cell_type": "code",
   "execution_count": null,
   "metadata": {},
   "outputs": [],
   "source": [
    "!pip install ragxplorer"
   ]
  },
  {
   "cell_type": "code",
   "execution_count": null,
   "metadata": {},
   "outputs": [],
   "source": [
    "import os\n",
    "import requests\n",
    "from urllib.parse import urlparse\n",
    "from typing import Optional\n",
    "\n",
    "from ragxplorer import RAGxplorer"
   ]
  },
  {
   "cell_type": "markdown",
   "metadata": {},
   "source": [
    "### Uploading graphene corpus"
   ]
  },
  {
   "cell_type": "code",
   "execution_count": null,
   "metadata": {},
   "outputs": [],
   "source": [
    "pdf_url = \"http://78.46.65.231/graphenepdfs_full.pdf\""
   ]
  },
  {
   "cell_type": "code",
   "execution_count": null,
   "metadata": {},
   "outputs": [],
   "source": [
    "def download_pdf(pdf_url: str, filename: Optional[str] = None, output_dir: Optional[str] = None) -> str:\n",
    "    if output_dir is None:\n",
    "        output_dir = os.getcwd()\n",
    "    if filename is None:\n",
    "        filename = os.path.basename(urlparse(pdf_url).path)\n",
    "    output_path = os.path.join(output_dir, filename)\n",
    "    response = requests.get(pdf_url)\n",
    "    response.raise_for_status()\n",
    "    with open(output_path, \"wb\") as f:\n",
    "        f.write(response.content)\n",
    "    print(f\"Downloaded file saved at:\\n{output_path}\")\n",
    "    \n",
    "    return output_path"
   ]
  },
  {
   "cell_type": "code",
   "execution_count": null,
   "metadata": {},
   "outputs": [],
   "source": [
    "pdf_path = download_pdf(pdf_url)"
   ]
  },
  {
   "cell_type": "markdown",
   "metadata": {},
   "source": [
    "### Testing all-MiniLM-L6-v2 embedding model "
   ]
  },
  {
   "cell_type": "code",
   "execution_count": null,
   "metadata": {},
   "outputs": [],
   "source": [
    "client = RAGxplorer(embedding_model=\"all-MiniLM-L6-v2\")\n",
    "client.load_pdf(document_path=pdf_path, chunk_size=200, chunk_overlap=50, verbose=True)\n",
    "client.visualize_query(\n",
    "    \"Provide me a step-by-step process to produce high-quality monolayer graphene. Provide the source.\"\n",
    ")"
   ]
  },
  {
   "cell_type": "markdown",
   "metadata": {},
   "source": [
    "### Testing text-embedding-3-small (OpenAI) embedding model"
   ]
  },
  {
   "cell_type": "code",
   "execution_count": null,
   "metadata": {},
   "outputs": [],
   "source": [
    "os.environ[\"OPENAI_API_KEY\"] = \"sk-\""
   ]
  },
  {
   "cell_type": "code",
   "execution_count": null,
   "metadata": {},
   "outputs": [],
   "source": [
    "client_openai = RAGxplorer(embedding_model=\"text-embedding-3-small\")\n",
    "client_openai.load_pdf(\n",
    "    document_path=pdf_path, \n",
    "    chunk_size=200,\n",
    "    chunk_overlap=50,\n",
    "    verbose=True)\n",
    "client_openai.visualize_query(\n",
    "    query=\"Provide me a step-by-step process to produce high-quality monolayer graphene. Provide the source.\", \n",
    "    retrieval_method=\"HyDE\", \n",
    "    top_k=6, \n",
    "    query_shape_size=10\n",
    ")"
   ]
  }
 ],
 "metadata": {
  "kernelspec": {
   "display_name": "Python 3",
   "language": "python",
   "name": "python3"
  },
  "language_info": {
   "name": "python",
   "version": "3.12.1"
  }
 },
 "nbformat": 4,
 "nbformat_minor": 2
}
